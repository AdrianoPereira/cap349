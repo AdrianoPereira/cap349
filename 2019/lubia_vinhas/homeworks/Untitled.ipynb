{
 "cells": [
  {
   "cell_type": "code",
   "execution_count": 5,
   "metadata": {
    "ExecuteTime": {
     "end_time": "2019-07-19T18:26:03.636070Z",
     "start_time": "2019-07-19T18:26:03.632625Z"
    }
   },
   "outputs": [
    {
     "data": {
      "text/plain": [
       "(357331.0, 7369834.0)"
      ]
     },
     "execution_count": 5,
     "metadata": {},
     "output_type": "execute_result"
    }
   ],
   "source": [
    "utmtl = (utm[0]-14, utm[1]-14)\n",
    "utmtl"
   ]
  },
  {
   "cell_type": "code",
   "execution_count": 7,
   "metadata": {
    "ExecuteTime": {
     "end_time": "2019-07-19T18:27:35.536172Z",
     "start_time": "2019-07-19T18:27:35.525059Z"
    }
   },
   "outputs": [
    {
     "name": "stdout",
     "output_type": "stream",
     "text": [
      "354451.0\n",
      "7372534.0\n"
     ]
    }
   ],
   "source": [
    "spacex, spacey = 30*90, 96*30\n",
    "print(utmtl[0]-spacey)\n",
    "print(utmtl[1]+spacex)"
   ]
  },
  {
   "cell_type": "code",
   "execution_count": 29,
   "metadata": {
    "ExecuteTime": {
     "end_time": "2019-07-19T19:56:59.336862Z",
     "start_time": "2019-07-19T19:56:59.333761Z"
    }
   },
   "outputs": [
    {
     "data": {
      "text/plain": [
       "(-23.75195436807585, -46.39993416727764)"
      ]
     },
     "execution_count": 29,
     "metadata": {},
     "output_type": "execute_result"
    }
   ],
   "source": [
    "import utm\n",
    "\n",
    "utm.to_latlon(357330.0, 7372533.0, 23, 'K')\n",
    "# utm.from_latlon(-23.7518724154, -46.39992773)"
   ]
  },
  {
   "cell_type": "code",
   "execution_count": 9,
   "metadata": {
    "ExecuteTime": {
     "end_time": "2019-07-19T22:29:08.190112Z",
     "start_time": "2019-07-19T22:29:08.154769Z"
    }
   },
   "outputs": [
    {
     "name": "stdout",
     "output_type": "stream",
     "text": [
      "p1:  7369848 357345\n",
      "p2:  7372548 357345\n",
      "p3:  7372548 354465\n",
      "p4:  7369848 354465\n",
      "p5:  7369848 357345\n",
      "POLYGON ((-37.53045090369274 42.53801631454314, -37.52940518784312 42.51935229787561, -37.51355337771483 42.52075761938698, -37.51459849865119 42.53941108875418, -37.53045090369274 42.53801631454314))\n"
     ]
    },
    {
     "data": {
      "text/html": [
       "<div style=\"width:100%;\"><div style=\"position:relative;width:100%;height:0;padding-bottom:60%;\"><iframe src=\"data:text/html;charset=utf-8;base64,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\" style=\"position:absolute;width:100%;height:100%;left:0;top:0;border:none !important;\" allowfullscreen webkitallowfullscreen mozallowfullscreen></iframe></div></div>"
      ],
      "text/plain": [
       "<folium.folium.Map at 0x7fb9292429b0>"
      ]
     },
     "execution_count": 9,
     "metadata": {},
     "output_type": "execute_result"
    }
   ],
   "source": [
    "p1 = (357345,7369848)\n",
    "p2 = (p1[0] + 90 * 30,p1[1])\n",
    "p3 = (p1[0] + 90 * 30,p1[1] + 96 * 30)\n",
    "p4 = (p1[0],p1[1] + 96 * 30 )\n",
    "\n",
    "import geopandas as gpd\n",
    "import folium\n",
    "from shapely.geometry import Polygon\n",
    "import utm\n",
    "\n",
    "px1 = 7369848\n",
    "py1 = 357345\n",
    "print('p1: ', px1, py1)\n",
    "\n",
    "px2 = (px1+(30*90))\n",
    "py2 = py1\n",
    "print('p2: ', px2, py2)\n",
    "\n",
    "px3 = px2\n",
    "py3 = py2-(30*96)\n",
    "print('p3: ', px3, py3)\n",
    "\n",
    "px4 = px1\n",
    "py4 = py3\n",
    "print('p4: ', px4, py4)\n",
    "\n",
    "px5, py5 = px1, py1\n",
    "print('p5: ', px5, py5)\n",
    "\n",
    "def convert(utmx, utmy):\n",
    "#     lon, lat = utm.to_latlon(utmy, utmx, 23, 'K')\n",
    "    lon, lat = transform(Proj(init='epsg:29193'), Proj(init='epsg:4618'), utmx, utmy)\n",
    "#     return (float('%.10f'%lat), float('%.10f'%lon))\n",
    "    return (lat, lon)\n",
    "\n",
    "m = folium.Map (\n",
    "    location=[-23.7661188287, -46.4100399938], \n",
    "    zoom_start=14\n",
    ")\n",
    "\n",
    "crs = {'init': 'epsg:4618'}\n",
    "polygon_geom = Polygon (\n",
    "    [convert(p1[1], p1[0]),\n",
    "    convert(p2[1], p2[0]),\n",
    "    convert(p3[1], p3[0]),\n",
    "    convert(p4[1], p4[0]),\n",
    "    convert(p1[1], p1[0])]\n",
    ")\n",
    "\n",
    "print(polygon_geom)\n",
    "polygon = gpd.GeoDataFrame(index=[0], crs=crs, geometry=[polygon_geom])\n",
    "\n",
    "folium.GeoJson(\n",
    "    polygon,\n",
    "    style_function=lambda feature: {\n",
    "        'color': '#FF00003A'\n",
    "    }\n",
    ").add_to(m)\n",
    "\n",
    "points = [\n",
    "    (-46.38316591, -23.77018768),\n",
    "    (-46.36559748, -23.77315973),\n",
    "    (-46.36515407, -23.78565826),\n",
    "    (-46.37767412, -23.79364209),\n",
    "    (-46.38888124, -23.78597452),\n",
    "    (-46.38021129, -23.78024496),\n",
    "    (-46.39070815, -23.77786303),\n",
    "    (-46.38797965, -23.77313614),\n",
    "    (-46.38316591, -23.77018768)\n",
    "]\n",
    "feature_group = folium.FeatureGroup(\"Points\")\n",
    "\n",
    "for point in points:    \n",
    "    feature_group.add_child(\n",
    "        folium.Marker(\n",
    "            location=point[::-1]\n",
    "        )\n",
    "    )\n",
    "\n",
    "m.add_child(feature_group)\n",
    "\n",
    "m"
   ]
  },
  {
   "cell_type": "code",
   "execution_count": 4,
   "metadata": {
    "ExecuteTime": {
     "end_time": "2019-07-19T22:23:42.792260Z",
     "start_time": "2019-07-19T22:23:42.781018Z"
    }
   },
   "outputs": [
    {
     "data": {
      "text/plain": [
       "(-46.40003999380805, -23.776118828987528)"
      ]
     },
     "execution_count": 4,
     "metadata": {},
     "output_type": "execute_result"
    }
   ],
   "source": [
    "from pyproj import Proj, transform\n",
    "\n",
    "transform(Proj(init='epsg:29193'), Proj(init='epsg:4618'), 357345, 7369848)"
   ]
  },
  {
   "cell_type": "code",
   "execution_count": 8,
   "metadata": {
    "ExecuteTime": {
     "end_time": "2019-07-19T22:28:11.283826Z",
     "start_time": "2019-07-19T22:28:11.249273Z"
    }
   },
   "outputs": [
    {
     "name": "stdout",
     "output_type": "stream",
     "text": [
      "p1:  7369848 357345\n",
      "p2:  7372548 357345\n",
      "p3:  7372548 354465\n",
      "p4:  7369848 354465\n",
      "p5:  7369848 357345\n",
      "POLYGON ((-46.40004643326419 -23.7762008654534, -46.39978556715595 -23.75182025319291, -46.42803849103746 -23.75156171589725, -46.42830461807493 -23.77594203077787, -46.40004643326419 -23.7762008654534))\n",
      "7776000.0\n"
     ]
    },
    {
     "data": {
      "text/html": [
       "<div style=\"width:100%;\"><div style=\"position:relative;width:100%;height:0;padding-bottom:60%;\"><iframe src=\"data:text/html;charset=utf-8;base64,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\" style=\"position:absolute;width:100%;height:100%;left:0;top:0;border:none !important;\" allowfullscreen webkitallowfullscreen mozallowfullscreen></iframe></div></div>"
      ],
      "text/plain": [
       "<folium.folium.Map at 0x7fb9290e70f0>"
      ]
     },
     "execution_count": 8,
     "metadata": {},
     "output_type": "execute_result"
    }
   ],
   "source": [
    "import geopandas as gpd\n",
    "import folium\n",
    "from shapely.geometry import Polygon\n",
    "import utm\n",
    "\n",
    "px1 = 7369848\n",
    "py1 = 357345\n",
    "print('p1: ', px1, py1)\n",
    "\n",
    "px2 = (px1+(30*90))\n",
    "py2 = py1\n",
    "print('p2: ', px2, py2)\n",
    "\n",
    "px3 = px2\n",
    "py3 = py2-(30*96)\n",
    "print('p3: ', px3, py3)\n",
    "\n",
    "px4 = px1\n",
    "py4 = py3\n",
    "print('p4: ', px4, py4)\n",
    "\n",
    "px5, py5 = px1, py1\n",
    "print('p5: ', px5, py5)\n",
    "\n",
    "def convert(utmx, utmy):\n",
    "    lon, lat = utm.to_latlon(utmy, utmx, 23, 'K')\n",
    "#     return (float('%.10f'%lat), float('%.10f'%lon))\n",
    "    return (lat, lon)\n",
    "\n",
    "m = folium.Map (\n",
    "    location=[-23.7661188287, -46.4100399938], \n",
    "    zoom_start=14\n",
    ")\n",
    "\n",
    "crs = {'init': 'epsg:4618'}\n",
    "polygon_geom = Polygon (\n",
    "    [convert(px1, py1),\n",
    "    convert(px2, py2),\n",
    "    convert(px3, py3),\n",
    "    convert(px4, py4),\n",
    "    convert(px5, py5)]\n",
    ")\n",
    "\n",
    "print(polygon_geom)\n",
    "polygon = gpd.GeoDataFrame(index=[0], crs=crs, geometry=[polygon_geom])\n",
    "\n",
    "folium.GeoJson(\n",
    "    polygon,\n",
    "    style_function=lambda feature: {\n",
    "        'color': '#FF00003A'\n",
    "    }\n",
    ").add_to(m)\n",
    "\n",
    "polygon_geom_utm = Polygon (\n",
    "    [(py1, px1),\n",
    "    (py2, px2),\n",
    "    (py3, px3),\n",
    "    (py4, px4),\n",
    "    (py5, px5)]\n",
    ")\n",
    "\n",
    "print(polygon_geom_utm.area)\n",
    "\n",
    "points = [\n",
    "    (-46.38316591, -23.77018768),\n",
    "    (-46.36559748, -23.77315973),\n",
    "    (-46.36515407, -23.78565826),\n",
    "    (-46.37767412, -23.79364209),\n",
    "    (-46.38888124, -23.78597452),\n",
    "    (-46.38021129, -23.78024496),\n",
    "    (-46.39070815, -23.77786303),\n",
    "    (-46.38797965, -23.77313614),\n",
    "    (-46.38316591, -23.77018768)\n",
    "]\n",
    "feature_group = folium.FeatureGroup(\"Points\")\n",
    "\n",
    "for point in points:    \n",
    "    feature_group.add_child(\n",
    "        folium.Marker(\n",
    "            location=point[::-1]\n",
    "        )\n",
    "    )\n",
    "\n",
    "m.add_child(feature_group)\n",
    "\n",
    "m"
   ]
  },
  {
   "cell_type": "code",
   "execution_count": 136,
   "metadata": {
    "ExecuteTime": {
     "end_time": "2019-07-19T21:29:00.551977Z",
     "start_time": "2019-07-19T21:29:00.548327Z"
    }
   },
   "outputs": [
    {
     "data": {
      "text/plain": [
       "3.33"
      ]
     },
     "execution_count": 136,
     "metadata": {},
     "output_type": "execute_result"
    }
   ],
   "source": [
    "len(str(-46.40019506272824))\n",
    "float('%.2f'%3.33434343)"
   ]
  },
  {
   "cell_type": "code",
   "execution_count": 24,
   "metadata": {
    "ExecuteTime": {
     "end_time": "2019-07-19T22:40:11.367772Z",
     "start_time": "2019-07-19T22:40:11.318175Z"
    }
   },
   "outputs": [
    {
     "name": "stdout",
     "output_type": "stream",
     "text": [
      "(357345, 7369848)\n",
      "(360045, 7369848)\n",
      "(360045, 7372728)\n",
      "(357345, 7372728)\n",
      "-->  (-46.40003999380805, -23.776118828987528)\n",
      "-->  (-46.37354772538318, -23.776356788919532)\n",
      "-->  (-46.3732747447417, -23.750350598273975)\n",
      "-->  (-46.39976175221029, -23.750112929962626)\n",
      "-->  (-46.40003999380805, -23.776118828987528)\n",
      "POLYGON ((-46.40003999380805 -23.77611882898753, -46.37354772538318 -23.77635678891953, -46.3732747447417 -23.75035059827398, -46.39976175221029 -23.75011292996263, -46.40003999380805 -23.77611882898753))\n"
     ]
    },
    {
     "data": {
      "text/html": [
       "<div style=\"width:100%;\"><div style=\"position:relative;width:100%;height:0;padding-bottom:60%;\"><iframe src=\"data:text/html;charset=utf-8;base64,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\" style=\"position:absolute;width:100%;height:100%;left:0;top:0;border:none !important;\" allowfullscreen webkitallowfullscreen mozallowfullscreen></iframe></div></div>"
      ],
      "text/plain": [
       "<folium.folium.Map at 0x7fb9290e7c88>"
      ]
     },
     "execution_count": 24,
     "metadata": {},
     "output_type": "execute_result"
    }
   ],
   "source": [
    "import geopandas as gpd\n",
    "import folium\n",
    "from shapely.geometry import Polygon\n",
    "from pyproj import Proj, transform\n",
    "\n",
    "p1 = (357345, 7369848)\n",
    "p2 = (p1[0]+90*30, p1[1])\n",
    "p3 = (p1[0]+90*30, p1[1]+96*30)\n",
    "p4 = (p1[0], p1[1]+96*30)\n",
    "\n",
    "print(p1)\n",
    "print(p2)\n",
    "print(p3)\n",
    "print(p4)\n",
    "def convert(coords):\n",
    "    lon, lat = transform(Proj(init='epsg:29193'), Proj(init='epsg:4618'), coords[0], coords[1])\n",
    "    print('--> ', transform(Proj(init='epsg:29193'), Proj(init='epsg:4618'), coords[0], coords[1]))\n",
    "    return (lon, lat)\n",
    "\n",
    "m = folium.Map (\n",
    "    location=[-23.7661188287, -46.4100399938], \n",
    "    zoom_start=14\n",
    ")\n",
    "\n",
    "polygon_geom = Polygon (\n",
    "    [convert(p1),\n",
    "    convert(p2),\n",
    "    convert(p3),\n",
    "    convert(p4),\n",
    "    convert(p1)]\n",
    ")\n",
    "\n",
    "print(polygon_geom)\n",
    "polygon = gpd.GeoDataFrame(index=[0], crs={'init': 'epsg:4618'}, geometry=[polygon_geom])\n",
    "\n",
    "folium.GeoJson(\n",
    "    polygon,\n",
    "    style_function=lambda feature: {\n",
    "        'color': '#FF00003A'\n",
    "    }\n",
    ").add_to(m)\n",
    "\n",
    "points = [\n",
    "    (-46.38316591, -23.77018768),\n",
    "    (-46.36559748, -23.77315973),\n",
    "    (-46.36515407, -23.78565826),\n",
    "    (-46.37767412, -23.79364209),\n",
    "    (-46.38888124, -23.78597452),\n",
    "    (-46.38021129, -23.78024496),\n",
    "    (-46.39070815, -23.77786303),\n",
    "    (-46.38797965, -23.77313614),\n",
    "    (-46.38316591, -23.77018768)\n",
    "]\n",
    "feature_group = folium.FeatureGroup(\"Points\")\n",
    "\n",
    "for point in points:    \n",
    "    feature_group.add_child(\n",
    "        folium.Marker(\n",
    "            location=point[::-1]\n",
    "        )\n",
    "    )\n",
    "\n",
    "m.add_child(feature_group)\n",
    "\n",
    "m"
   ]
  }
 ],
 "metadata": {
  "kernelspec": {
   "display_name": "Python 3",
   "language": "python",
   "name": "python3"
  },
  "language_info": {
   "codemirror_mode": {
    "name": "ipython",
    "version": 3
   },
   "file_extension": ".py",
   "mimetype": "text/x-python",
   "name": "python",
   "nbconvert_exporter": "python",
   "pygments_lexer": "ipython3",
   "version": "3.7.3"
  }
 },
 "nbformat": 4,
 "nbformat_minor": 2
}
