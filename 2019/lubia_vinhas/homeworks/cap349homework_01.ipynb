{
 "cells": [
  {
   "cell_type": "markdown",
   "metadata": {},
   "source": [
    "# <span style=\"color:#336699\">CAP349 - Banco de Dados Geográficos <img src=\"./logo_inpe.png\" style=\"margin-left: 50px; height: 100px;\" align=\"right\"></span>\n",
    "<hr style=\"border:2px solid #0077b9;\">\n",
    "\n",
    "# <span style=\"color:#336699\">1ª Lista de Excecícios</span>\n",
    "\n",
    "Professores:\n",
    "- Dr. Gilberto Queiroz \n",
    "- **Dra. Lúbia Vinhas**\n",
    "- Dra. Karine Ferreira\n",
    "\n",
    "Discente:\n",
    "- Adriano Pereira Almeida\n",
    "<p style=\"text-align: right; font-style: italic; \">Programa de Pós Graduação em Computação Aplicada</p>"
   ]
  },
  {
   "cell_type": "markdown",
   "metadata": {},
   "source": [
    "# Descição\n",
    "<hr style=\"border:1px solid #0077b9;\">\n",
    "\n",
    "\n",
    "Esse documento é referente a atividade da disciplina CAP349 (Banco de dados geográficos), proposta pel Dra. Lúbia Vinhas"
   ]
  },
  {
   "cell_type": "markdown",
   "metadata": {},
   "source": [
    "# 1. Exercício\n",
    "Uma pessoa adquiriu uma imagem de sensoriamento remoto com as seguintes características:\n",
    " - 96 linhas, 90 colunas; resolução horizontal e vertical de 30 metros\n",
    " - coordenada do centro do pixel do canto superior esquerdo: (357345.0, 7369848.0), dadas em no sistema de referência espacial com SRID 29193 dado pela autoridade EPSG.\n",
    " \n",
    "A pessoa fez um levantamento de campo e voltou com os seguintes pontos de GPS, medidos em Latitude e Longitude sobre Datum SAD69, unidades Graus Decimais:\n",
    "\n",
    "\n",
    "**Longitude** | **Latitude**\n",
    "------------- |--------------\n",
    "-46.38316591 | -23.77018768\n",
    "-46.36559748 | -23.77315973\n",
    "-46.36515407 | -23.78565826\n",
    "-46.37767412 | -23.79364209\n",
    "-46.38888124 | -23.78597452\n",
    "-46.38021129 | -23.78024496\n",
    "-46.39070815 | -23.77786303\n",
    "-46.38797965 | -23.77313614\n",
    "-46.38316591 | -23.77018768\n",
    "|<img width=100/>|<img width=200/>|\n",
    "\n",
    "Pergunta-se:\n",
    "\n",
    "### 1) Qual a área (em metros quadrados) da região coberta pela imagem?\n",
    "    "
   ]
  },
  {
   "cell_type": "markdown",
   "metadata": {},
   "source": [
    "#### Dependências\n",
    "\n",
    "Para a resolução desta lista de exercício forma utilizadas algumas bibliotecas de manipulação de dados geográficos, são elas:\n",
    "\n",
    "- [pyproj](https://pyproj4.github.io/pyproj/stable/installation.html) - Biblioteca utilizada para fazer transformações dos sistemas de projeções cartofráficas.\n",
    "- [shapely](https://shapely.readthedocs.io) - Biblioteca utilizada para fazer operações e manipulação de objetos primitivos geométricos.\n",
    "- [geopandas](http://geopandas.org) - Biblioteca para manipulação de dados geográficos.\n",
    "- [matplotlib](https://matplotlib.org/) - Biblioteca para visualização de gráficos.\n",
    "- [folium](https://python-visualization.github.io/folium/) - Biblioteca para visualização de mapas."
   ]
  },
  {
   "cell_type": "code",
   "execution_count": 23,
   "metadata": {
    "ExecuteTime": {
     "end_time": "2019-07-20T20:21:08.658030Z",
     "start_time": "2019-07-20T20:21:07.899282Z"
    }
   },
   "outputs": [],
   "source": [
    "from pyproj import Proj, transform\n",
    "from shapely.geometry import Polygon, Point\n",
    "import folium\n",
    "import matplotlib.pyplot as plt\n",
    "import geopandas as gpd"
   ]
  },
  {
   "cell_type": "markdown",
   "metadata": {},
   "source": [
    "Definição dos sistemas de projeção cartográficas que serão utilizados:"
   ]
  },
  {
   "cell_type": "code",
   "execution_count": 24,
   "metadata": {},
   "outputs": [],
   "source": [
    "EPSG1 = Proj(init='epsg:29193')\n",
    "EPSG2 = Proj(init='epsg:4618')\n",
    "POLY = {'init': 'epsg:4618'}"
   ]
  },
  {
   "cell_type": "markdown",
   "metadata": {},
   "source": [
    "Sabendo que a área capturada pelo satélite tem as seguintes dimensões:\n",
    "\n",
    "<table width=300>\n",
    "    <tr align=\"center\">\n",
    "        <th colspan=2>\n",
    "           <center>Dimensões da área da imagem</center>\n",
    "        </th>\n",
    "    </tr>\n",
    "    <tr>\n",
    "        <td align=\"center\">Linhas</td>\n",
    "        <td align=\"center\">96</td>\n",
    "    </tr>\n",
    "    <tr>\n",
    "        <td align=\"center\">Colunas</td>\n",
    "        <td align=\"center\">90</td>\n",
    "    </tr>\n",
    "    <tr>\n",
    "        <td align=\"center\">Altura da Célula</td>\n",
    "        <td align=\"center\">30 Metros</td>\n",
    "    </tr>\n",
    "    <tr>\n",
    "        <td align=\"center\">Largura da Célula</td>\n",
    "        <td align=\"center\">30 Metros</td>\n",
    "    </tr>\n",
    "</table>\n",
    "\n",
    "Pode-se observar que iniciamente não é necessário aplicar as projeções cartográficas para obter a sua área em metros quadrados. Sendo assim, basta descobrir as coordenadas dos pontos dos cantos da matriz. Utilizando coordenadas genéricas, iniciando em (0, 0), os pontos podem ser obtidos da seguinte maneira:   \n",
    "\n",
    "$\n",
    "p1 = (x=0, y=0)\n",
    "$\n",
    "\n",
    "$\n",
    "p2 = (x=30*90, y=0)\n",
    "$\n",
    "\n",
    "$\n",
    "p3 = (x=30*90, y=30*96)\n",
    "$\n",
    "\n",
    "$\n",
    "p4 = (x=0, y=30*96)\n",
    "$\n",
    "\n",
    "Para calcular a área basta:\n",
    "\n",
    "$$\n",
    "Area = \\left | \\frac{(px1*py2 - py1*px2)+(px2*py3 - py2*px3) + (px3*py4 - py3*px4) + (px4*py1 - py4*px1) }{2} \\right |\n",
    "$$\n",
    "\n",
    "$$\n",
    "Area = \\left | \\frac{(0*0 - 0*2700)+(2700*2880 - 0*2700) + (2700*2880 - 2880*0) + (0*0 - 2880*0) }{2} \\right |\n",
    "$$\n",
    "\n",
    "$$\n",
    "Area = \\left| \\frac{15552000}{2} \\right| = 7776000.0 m^2\n",
    "$$\n",
    "\n",
    "Aplicando os valores e fórmula acima em código em python temos:"
   ]
  },
  {
   "cell_type": "code",
   "execution_count": 25,
   "metadata": {},
   "outputs": [
    {
     "name": "stdout",
     "output_type": "stream",
     "text": [
      "A área total da imagem capturada pelo satélite é 7776000.0 m²\n"
     ]
    }
   ],
   "source": [
    "def getArea(pts):\n",
    "    qtd_pts = len(pts)\n",
    "    sigma = 0\n",
    "    for i in range(qtd_pts):\n",
    "        cur, nex = (i%qtd_pts, (i+1)%qtd_pts)  \n",
    "        sigma += pts[cur][0]*pts[nex][1]-pts[cur][1]*pts[nex][0]\n",
    "        \n",
    "    return abs(sigma/2)\n",
    "\n",
    "pts = [(0, 0), (30*90, 0), (30*90, 30*96), (0, 30*96)]\n",
    "\n",
    "print('A área total da imagem capturada pelo satélite é {} m²'.format(getArea(pts)))"
   ]
  },
  {
   "cell_type": "markdown",
   "metadata": {},
   "source": [
    "Aplicando o a mesma função usada anteriormente nas coordenadas originais da imagem, obtemos a mesma área, como mostrado a seguir:"
   ]
  },
  {
   "cell_type": "code",
   "execution_count": 26,
   "metadata": {},
   "outputs": [
    {
     "name": "stdout",
     "output_type": "stream",
     "text": [
      "X=357345.0, Y=7369848.0\n",
      "X=360045.0, Y=7369848.0\n",
      "X=360045.0, Y=7372728.0\n",
      "X=357345.0, Y=7372728.0\n",
      "A área total da imagem capturada pelo satélite é 7776000.0 m²\n"
     ]
    }
   ],
   "source": [
    "rows, cols = (96, 90)\n",
    "\n",
    "points_o = [(357345.0, 7369848.0)]\n",
    "points_o.append (\n",
    "    ((points_o[0][0]+30*90), points_o[0][1])\n",
    ")\n",
    "points_o.append (\n",
    "    (points_o[1][0], (points_o[0][1]+30*96))\n",
    ")\n",
    "points_o.append (\n",
    "    (points_o[0][0], points_o[2][1])\n",
    ")\n",
    "points_o\n",
    "[print('X={}, Y={}'.format(p[0], p[1])) for p in points_o]\n",
    "print('A área total da imagem capturada pelo satélite é {} m²'.format(getArea(points_o)))"
   ]
  },
  {
   "cell_type": "markdown",
   "metadata": {},
   "source": [
    "Afim de melhorar a visualização, as coordenadas da área de cobertura do satélite e as coordenadas dos pontos na tabela foram adicionadas em um mapa real. A primeira coisa a se fazer é trasnformar as coordenadas da área de cobertura do satélite para o mesmo sistema de coordenadas dos pontos da tabela. Para fazer isso foi utilizada a função $\\textit{transform()}$ da biblioteca [pyproj](https://pyproj4.github.io/pyproj/stable/installation.html), passando o sistema de referência atual, o novo sistema de referência e os pontos a serem convertidos."
   ]
  },
  {
   "cell_type": "code",
   "execution_count": 27,
   "metadata": {},
   "outputs": [
    {
     "name": "stdout",
     "output_type": "stream",
     "text": [
      "Longitude=-46.40003999380805, Latitude=-23.776118828987528\n",
      "Longitude=-46.37354772538318, Latitude=-23.776356788919532\n",
      "Longitude=-46.3732747447417, Latitude=-23.750350598273975\n",
      "Longitude=-46.39976175221029, Latitude=-23.75011292996263\n",
      "\n",
      "Transformação do sistema de referência EPSG29193 para EPSG4618\n"
     ]
    }
   ],
   "source": [
    "points_t = [\n",
    "    transform(EPSG1, EPSG2, point[0], point[1]) \n",
    "    for point in points_o\n",
    "]\n",
    "[print('Longitude={}, Latitude={}'.format(p[0], p[1])) for p in points_t]\n",
    "print('\\nTransformação do sistema de referência EPSG29193 para EPSG4618')"
   ]
  },
  {
   "cell_type": "markdown",
   "metadata": {},
   "source": [
    "Para adicionar no mapa a demarcação que representa a área de cobertura do satélite, é necessário transformar os pontos em um polígono. Para isso foram utilizadas as bibliotecas [shapely](https://shapely.readthedocs.io) e [geopandas](http://geopandas.org), como mostrado a seguir."
   ]
  },
  {
   "cell_type": "code",
   "execution_count": 28,
   "metadata": {},
   "outputs": [
    {
     "data": {
      "image/png": "[encoded data removed]",
      "text/plain": [
       "<Figure size 432x288 with 1 Axes>"
      ]
     },
     "metadata": {
      "needs_background": "light"
     },
     "output_type": "display_data"
    }
   ],
   "source": [
    "img_visible_satellite = gpd.GeoDataFrame(crs=POLY, geometry=[Polygon(points_t)])\n",
    "plt.show(img_visible_satellite.plot())"
   ]
  },
  {
   "cell_type": "markdown",
   "metadata": {},
   "source": [
    "Após isso, foi inserido o mapa com sua visualização sobre a área visível das coordenadas, e então adicionado o polígono representado a área de cobertura do satélite e os pontos da tablea, como mostrado a seguir:"
   ]
  },
  {
   "cell_type": "code",
   "execution_count": 29,
   "metadata": {
    "scrolled": false
   },
   "outputs": [
    {
     "data": {
      "text/html": [
       "<div style=\"width:100%;\"><div style=\"position:relative;width:100%;height:0;padding-bottom:60%;\"><iframe src=\"data:text/html;charset=utf-8;base64,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\" style=\"position:absolute;width:100%;height:100%;left:0;top:0;border:none !important;\" allowfullscreen webkitallowfullscreen mozallowfullscreen></iframe></div></div>"
      ],
      "text/plain": [
       "<folium.folium.Map at 0x1882dc1ed30>"
      ]
     },
     "execution_count": 29,
     "metadata": {},
     "output_type": "execute_result"
    }
   ],
   "source": [
    "# Criando objeto mapa\n",
    "view = folium.Map (\n",
    "    location=[-23.7661188000, -46.3800000000], \n",
    "    zoom_start=13.45\n",
    ")\n",
    "\n",
    "#Adicionando o polígono representando a área visível do satélite\n",
    "folium.GeoJson (\n",
    "    img_visible_satellite,\n",
    "    style_function=lambda feature: {\n",
    "        'color': '#FF00008A'\n",
    "    }\n",
    ").add_to(view)\n",
    "\n",
    "#Pontos da tabela\n",
    "points_c = [ \n",
    "    (-46.38316591, -23.77018768),\n",
    "    (-46.36559748, -23.77315973),\n",
    "    (-46.36515407, -23.78565826),\n",
    "    (-46.37767412, -23.79364209),\n",
    "    (-46.38888124, -23.78597452),\n",
    "    (-46.38021129, -23.78024496),\n",
    "    (-46.39070815, -23.77786303),\n",
    "    (-46.38797965, -23.77313614),\n",
    "    (-46.38316591, -23.77018768)\n",
    "]\n",
    "\n",
    "#Adicionando coordenadas da tabela no mapa\n",
    "feature_group = folium.FeatureGroup(\"Points\")\n",
    "i = 1\n",
    "for point in points_c:    \n",
    "    feature_group.add_child(\n",
    "        folium.Marker(\n",
    "            location=point[::-1],\n",
    "            popup='Ponto '+str(i)\n",
    "        )\n",
    "    )\n",
    "    i+=1\n",
    "\n",
    "view.add_child(feature_group)\n",
    "\n",
    "\n",
    "view"
   ]
  },
  {
   "cell_type": "markdown",
   "metadata": {},
   "source": [
    "### 2) Quais os pontos tem intersecção com a imagem? Ou seja, quais pontos poderiam ser localizados dentro da imagem?"
   ]
  },
  {
   "cell_type": "markdown",
   "metadata": {},
   "source": [
    "Para verificar quais pontos da tabela estão dentro da imagem de visualização do satélite, foi utilizado o método $\\textit{contains()}$ da biblioteca [geopandas](http://geopandas.org), que verifica se determinado objeto está dentro de outra figura."
   ]
  },
  {
   "cell_type": "code",
   "execution_count": 30,
   "metadata": {
    "ExecuteTime": {
     "end_time": "2019-07-20T18:41:52.533785Z",
     "start_time": "2019-07-20T18:41:52.522133Z"
    },
    "scrolled": true
   },
   "outputs": [
    {
     "name": "stdout",
     "output_type": "stream",
     "text": [
      "O Ponto 1 da tabela (Lat: -46.38316591, Lon: -23.77018768) está localizado dentro da imagem.\n",
      "O Ponto 8 da tabela (Lat: -46.38797965, Lon: -23.77313614) está localizado dentro da imagem.\n",
      "O Ponto 9 da tabela (Lat: -46.38316591, Lon: -23.77018768) está localizado dentro da imagem.\n"
     ]
    }
   ],
   "source": [
    "i = 1\n",
    "for point in points_c:\n",
    "    p = Point(point)\n",
    "    if img_visible_satellite.contains(p)[0]:\n",
    "        print('O Ponto {} da tabela (Lat: {}, Lon: {}) está localizado dentro da imagem.'.format(i, point[0], point[1]))\n",
    "    i+=1"
   ]
  },
  {
   "cell_type": "markdown",
   "metadata": {},
   "source": [
    "### 3) Se os pontos, na ordem apresentada, tiverem sido coletados ao longo das bordas de uma fazenda, qual a área (em metros quadrados) da fazenda?"
   ]
  },
  {
   "cell_type": "markdown",
   "metadata": {},
   "source": [
    "Transformando coordenadas da tabela em polígono e adicionando na visualização do mapa:"
   ]
  },
  {
   "cell_type": "code",
   "execution_count": 31,
   "metadata": {
    "ExecuteTime": {
     "end_time": "2019-07-20T19:29:25.849476Z",
     "start_time": "2019-07-20T19:29:25.830140Z"
    }
   },
   "outputs": [
    {
     "data": {
      "text/html": [
       "<div style=\"width:100%;\"><div style=\"position:relative;width:100%;height:0;padding-bottom:60%;\"><iframe src=\"data:text/html;charset=utf-8;base64,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\" style=\"position:absolute;width:100%;height:100%;left:0;top:0;border:none !important;\" allowfullscreen webkitallowfullscreen mozallowfullscreen></iframe></div></div>"
      ],
      "text/plain": [
       "<folium.folium.Map at 0x1882dc1e828>"
      ]
     },
     "execution_count": 31,
     "metadata": {},
     "output_type": "execute_result"
    }
   ],
   "source": [
    "view = folium.Map (\n",
    "    location=[-23.7661188000, -46.3800000000], \n",
    "    zoom_start=13.45\n",
    ")\n",
    "\n",
    "area_farm = gpd.GeoDataFrame(crs=POLY, geometry=[Polygon(points_c)]).geometry[0]\n",
    "\n",
    "folium.GeoJson (\n",
    "    img_visible_satellite,\n",
    "    style_function=lambda feature: {\n",
    "        'color': '#FF00008A'\n",
    "    }\n",
    ").add_to(view)\n",
    "\n",
    "folium.GeoJson (\n",
    "    area_farm,\n",
    "    style_function=lambda feature: {\n",
    "        'color': '#ffc125FF'\n",
    "    }\n",
    ").add_to(view)\n",
    "\n",
    "view"
   ]
  },
  {
   "cell_type": "markdown",
   "metadata": {},
   "source": [
    "Obtendo as coordenadas em um sistema de referência em metros, para facilitar a operação do cáculo da área: "
   ]
  },
  {
   "cell_type": "code",
   "execution_count": 32,
   "metadata": {
    "ExecuteTime": {
     "end_time": "2019-07-20T19:32:12.033578Z",
     "start_time": "2019-07-20T19:32:12.029079Z"
    }
   },
   "outputs": [
    {
     "name": "stdout",
     "output_type": "stream",
     "text": [
      "Longitude=359058.1954624074, Latitude=7370521.615411476\n",
      "Longitude=360851.77724090626, Latitude=7370209.8274442805\n",
      "Longitude=360910.2633986745, Latitude=7368826.268327201\n",
      "Longitude=359643.0590659388, Latitude=7367929.876411224\n",
      "Longitude=358492.8265501368, Latitude=7368767.807457295\n",
      "Longitude=359370.12250210915, Latitude=7369410.870973198\n",
      "Longitude=358297.87220979144, Latitude=7369664.198120429\n",
      "Longitude=358570.80876921036, Latitude=7370190.340539657\n",
      "Longitude=359058.1954624074, Latitude=7370521.615411476\n",
      "\n",
      "Transformação do sistema de referência EPSG4618 para EPSG29193\n"
     ]
    }
   ],
   "source": [
    "farm_utm = [\n",
    "    transform(EPSG2, EPSG1, point[0], point[1]) \n",
    "    for point in points_c\n",
    "]\n",
    "[print('Longitude={}, Latitude={}'.format(p[0], p[1])) for p in farm_utm]\n",
    "print('\\nTransformação do sistema de referência EPSG4618 para EPSG29193')"
   ]
  },
  {
   "cell_type": "markdown",
   "metadata": {},
   "source": [
    "Calculando a área da fazendo a partir do pontos no sistema de referência EPSG29193:"
   ]
  },
  {
   "cell_type": "code",
   "execution_count": 33,
   "metadata": {},
   "outputs": [
    {
     "name": "stdout",
     "output_type": "stream",
     "text": [
      "A área total da fazenda é aproximadamente 4432900.95 m²\n"
     ]
    }
   ],
   "source": [
    "print('A área total da fazenda é aproximadamente {:.2f} m²'.format(getArea(farm_utm)))"
   ]
  },
  {
   "cell_type": "markdown",
   "metadata": {},
   "source": [
    "## 2. Exercício\n",
    "\n",
    "Faça uma pesquisa na internet sobre o satélite LANDSAT-8. Responda:\n",
    "\n",
    "### Quantas e quais câmeras ou instrumentos ele dispõe?\n",
    "\n",
    "LANDSAT é a nomeclatura do programa norte-americano de satélites de observação da terra que foi iniciado em 1972. O Landsat 8, teve seu lançamento liderado pela [NASA](https://landsat.gsfc.nasa.gov/) em 11 de fevereiro de 2013 é o oitavo da série de satélites lançado pelo programa, e possui grande melhoria em relação aos seus antecessores.\n",
    "\n",
    "<figure style=\"text-align: center;\">\n",
    "    <img src=\"timeline-landsat.jpeg\" width=\"530\">\n",
    "    <figcaption>Figura 1: Timeline do Programa LANDSAT <br> Fonte: <a href=\"https://directory.eoportal.org/web/eoportal/satellite-missions/content/-/article/landsat-7\">https://directory.eoportal.org/web/eoportal/satellite-missions/content/-/article/landsat-7</a></figcaption>\n",
    "</figure>\n",
    "\n",
    "\n",
    "\n",
    " A plataforma LANDSAT-8 opera com dois instrumentos imageadores, são eles:\n",
    " - Operacional Terra Imager (OLI)\n",
    " - Thermal Infrared Sensor (TIRS)"
   ]
  },
  {
   "cell_type": "markdown",
   "metadata": {},
   "source": [
    "### Para uma das câmeras diga as características suas características geométricas (resoluções, tamanho da cena), espectrais (número de bandas e faixas) e radiométricas e temporais (taxa de revisita ao mesmo ponto).\n",
    "\n",
    "#### Operacional Terra Imager (OLI)\n",
    "\n",
    "O instrumento OLI possui 9 bandas epectrais colhendo dados nas faixas do visível, infravermelho próximo, infravermelho de ondas curtas e uma banda pancromática. Todas as bandas possuem resolução temporal de 16 dias, com resolução radiométrica  de 12 bits, e com 185 km de área imageada. Com exceção da banda pancromática que possui resolução espacial de 15 mestros, todas as outras possuem resolução de 30 metros. Mais detalhes na tabela a seguir:\n",
    "<table>\n",
    "    <tr>\n",
    "        <th>Banda Espectral</th>\n",
    "        <th>Resolução Espacial</th>\n",
    "        <th>Área Imageada</th>\n",
    "        <th>Banda Espectral</th>\n",
    "        <th>Resolução Radiométrica</th>\n",
    "        <th>Resolução Temporal</th>\n",
    "    </tr>\n",
    "    <tr>\n",
    "        <td style=\"text-align: center\">(B1) COSTAL</td>\n",
    "        <td style=\"text-align: center\">30 metros</td>\n",
    "        <td style=\"text-align: center\">185 km</td>\n",
    "        <td style=\"text-align: center\">0.433 - 0.453 µm</td>\n",
    "        <td style=\"text-align: center\">12 bits</td>\n",
    "        <td style=\"text-align: center\">16 dias</td>\n",
    "    </tr>\n",
    "    <tr>\n",
    "        <td style=\"text-align: center\">(B2) AZUL</td>\n",
    "        <td style=\"text-align: center\">30 metros</td>\n",
    "        <td style=\"text-align: center\">185 km</td>\n",
    "        <td style=\"text-align: center\">0.450 - 0.515 µm</td>\n",
    "        <td style=\"text-align: center\">12 bits</td>\n",
    "        <td style=\"text-align: center\">16 dias</td>\n",
    "    </tr>\n",
    "    <tr>\n",
    "        <td style=\"text-align: center\">(B3) VERDE</td>\n",
    "        <td style=\"text-align: center\">30 metros</td>\n",
    "        <td style=\"text-align: center\">185 km</td>\n",
    "        <td style=\"text-align: center\">0.525 - 0.600 µm</td>\n",
    "        <td style=\"text-align: center\">12 bits</td>\n",
    "        <td style=\"text-align: center\">16 dias</td>\n",
    "    </tr>\n",
    "    <tr>\n",
    "        <td style=\"text-align: center\">(B4) VERMELHO</td>\n",
    "        <td style=\"text-align: center\">30 metros</td>\n",
    "        <td style=\"text-align: center\">185 km</td>\n",
    "        <td style=\"text-align: center\">0.630 - 0.680 µm</td>\n",
    "        <td style=\"text-align: center\">12 bits</td>\n",
    "        <td style=\"text-align: center\">16 dias</td>\n",
    "    </tr>\n",
    "    <tr>\n",
    "        <td style=\"text-align: center\">(B5) INFRAVERMELHO PRÓXIMO</td>\n",
    "        <td style=\"text-align: center\">30 metros</td>\n",
    "        <td style=\"text-align: center\">185 km</td>\n",
    "        <td style=\"text-align: center\">0.845 - 0.885 µm</td>\n",
    "        <td style=\"text-align: center\">12 bits</td>\n",
    "        <td style=\"text-align: center\">16 dias</td>\n",
    "    </tr>\n",
    "    <tr>\n",
    "        <td style=\"text-align: center\">(B6) INFRAVERMELHO MÉDIO</td>\n",
    "        <td style=\"text-align: center\">30 metros</td>\n",
    "        <td style=\"text-align: center\">185 km</td>\n",
    "        <td style=\"text-align: center\">1.560 - 1.660 µm</td>\n",
    "        <td style=\"text-align: center\">12 bits</td>\n",
    "        <td style=\"text-align: center\">16 dias</td>\n",
    "    </tr>\n",
    "    <tr>\n",
    "        <td style=\"text-align: center\">(B7) INFRAVERMELHO MÉDIO</td>\n",
    "        <td style=\"text-align: center\">30 metros</td>\n",
    "        <td style=\"text-align: center\">185 km</td>\n",
    "        <td style=\"text-align: center\">2.100 - 2.300 µm</td>\n",
    "        <td style=\"text-align: center\">12 bits</td>\n",
    "        <td style=\"text-align: center\">16 dias</td>\n",
    "    </tr>\n",
    "    <tr>\n",
    "        <td style=\"text-align: center\">(B8) PANCROMÁTICO</td>\n",
    "        <td style=\"text-align: center\">15 metros</td>\n",
    "        <td style=\"text-align: center\">185 km</td>\n",
    "        <td style=\"text-align: center\">0.500 - 0.680 µm</td>\n",
    "        <td style=\"text-align: center\">12 bits</td>\n",
    "        <td style=\"text-align: center\">16 dias</td>\n",
    "    </tr>\n",
    "    <tr>\n",
    "        <td style=\"text-align: center\">(B9) Cirrus</td>\n",
    "        <td style=\"text-align: center\">30 metros</td>\n",
    "        <td style=\"text-align: center\">185 km</td>\n",
    "        <td style=\"text-align: center\">1.360 - 1.390 µm</td>\n",
    "        <td style=\"text-align: center\">12 bits</td>\n",
    "        <td style=\"text-align: center\">16 dias</td>\n",
    "    </tr>\n",
    "</table>\n",
    "<span style=\"display: block; text-align: center;\">Fonte: <a href=\"https://www.cnpm.embrapa.br/projetos/sat/conteudo/missao_landsat.html\">https://www.cnpm.embrapa.br/projetos/sat/conteudo/missao_landsat.html</a></span>\n",
    "\n",
    "#### Thermal Infrared Sensor (TIRS)\n",
    "O instrumento TIRS possui duas bandas espectrais na faixa do infravermelho termal. As bandas possuem resolução espacial de 100 metros, imageando uma área de 185 km, com resolução radiométrica de 12 bits e revisitando uma determinada área a cada 16 dias. Mais detalhes na tabela a seguir:\n",
    "<table>\n",
    "    <tr>\n",
    "        <th>Banda Espectral</th>\n",
    "        <th>Resolução Espacial</th>\n",
    "        <th>Área Imageada</th>\n",
    "        <th>Banda Espectral</th>\n",
    "        <th>Resolução Radiométrica</th>\n",
    "        <th>Resolução Temporal</th>\n",
    "    </tr>\n",
    "    <tr>\n",
    "        <td style=\"text-align: center\">(B10) LWIR - 1</td>\n",
    "        <td style=\"text-align: center\">100 metros</td>\n",
    "        <td style=\"text-align: center\">185 km</td>\n",
    "        <td style=\"text-align: center\">10.30 - 11.30 µm</td>\n",
    "        <td style=\"text-align: center\">12 bits</td>\n",
    "        <td style=\"text-align: center\">16 dias</td>\n",
    "    </tr>\n",
    "    <tr>\n",
    "        <td style=\"text-align: center\">(B11) LWIR - 2</td>\n",
    "        <td style=\"text-align: center\">100 metros</td>\n",
    "        <td style=\"text-align: center\">185 km</td>\n",
    "        <td style=\"text-align: center\">11.50 - 12.50 µm</td>\n",
    "        <td style=\"text-align: center\">12 bits</td>\n",
    "        <td style=\"text-align: center\">16 dias</td>\n",
    "    </tr>\n",
    "</table>\n",
    "<span style=\"display: block; text-align: center;\">Fonte: <a href=\"https://www.cnpm.embrapa.br/projetos/sat/conteudo/missao_landsat.html\">https://www.cnpm.embrapa.br/projetos/sat/conteudo/missao_landsat.html</a></span>"
   ]
  },
  {
   "cell_type": "markdown",
   "metadata": {},
   "source": [
    "### Inclua uma amostra (quick look) de uma cena, dizendo de onde e de quando ela é.\n",
    "\n",
    "A imagem foi do capturada pelo sensor OLI do LANDSAT-8 em 01/07/2019 e foi obtida no site [http://www.dgi.inpe.br/catalogo](http://www.dgi.inpe.br/catalogo). A cena é de uma região no centro do estado do Pará, ao norte do município de Altamira (município com maior incidência de desmatamento). Junto a esta cena do LANDSAT8, também foi inserido o shapefile munícipio de Altamira e os focos de desmatamento dos anos de 2018 e 2019 obtido na plataforma [TerraBrasilis](http://terrabrasilis.dpi.inpe.br). A cena do LANDSAT8 contém a mesclagem das bandas 6, 5 e 4."
   ]
  },
  {
   "cell_type": "markdown",
   "metadata": {},
   "source": [
    "<figure style=\"text-align: center;\">\n",
    "    <img src=\"./map_altamira.png\">\n",
    "    <figcaption>Figura 2: Cena do LANDSAT8 sobre o norte de Altamira com focos de desmatamento obtidos pelo <a href=\"http://terrabrasilis.dpi.inpe.br\">TerraBrasilis</a> </figcaption>\n",
    "</figure>"
   ]
  },
  {
   "cell_type": "markdown",
   "metadata": {},
   "source": [
    "## 3. Referências\n",
    "\n",
    "- http://www.engesat.com.br/imagem-de-satelite/landsat-8/\n",
    "- https://www.cnpm.embrapa.br/projetos/sat/conteudo/missao_landsat.html\n",
    "- http://www.processamentodigital.com.br/wp-content/uploads/2013/08/20130531_Landsat8_download_USGS.pdf\n",
    "- https://landsat.gsfc.nasa.gov/operational-land-imager-oli/\n",
    "- http://www.dgi.inpe.br/documentacao/satelites/landsat\n",
    "- http://www.dgi.inpe.br\n",
    "- http://terrabrasilis.dpi.inpe.br/"
   ]
  }
 ],
 "metadata": {
  "kernelspec": {
   "display_name": "Python 3",
   "language": "python",
   "name": "python3"
  },
  "language_info": {
   "codemirror_mode": {
    "name": "ipython",
    "version": 3
   },
   "file_extension": ".py",
   "mimetype": "text/x-python",
   "name": "python",
   "nbconvert_exporter": "python",
   "pygments_lexer": "ipython3",
   "version": "3.7.3"
  }
 },
 "nbformat": 4,
 "nbformat_minor": 2
}
